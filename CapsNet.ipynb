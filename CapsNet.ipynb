{
  "nbformat": 4,
  "nbformat_minor": 0,
  "metadata": {
    "colab": {
      "name": "CapsNet.ipynb",
      "provenance": [],
      "collapsed_sections": []
    },
    "kernelspec": {
      "name": "python3",
      "display_name": "Python 3"
    },
    "language_info": {
      "name": "python"
    },
    "accelerator": "GPU"
  },
  "cells": [
    {
      "cell_type": "code",
      "metadata": {
        "colab": {
          "base_uri": "https://localhost:8080/"
        },
        "id": "0sC2BN7BE5qf",
        "outputId": "f2a25f77-46c4-4399-9230-76cb8b5e63c2"
      },
      "source": [
        "%tensorflow_version 1.x"
      ],
      "execution_count": 1,
      "outputs": [
        {
          "output_type": "stream",
          "text": [
            "TensorFlow 1.x selected.\n"
          ],
          "name": "stdout"
        }
      ]
    },
    {
      "cell_type": "code",
      "metadata": {
        "id": "plFZgKFsEnFm"
      },
      "source": [
        "import tensorflow as tf\n",
        "import numpy as np"
      ],
      "execution_count": 2,
      "outputs": []
    },
    {
      "cell_type": "markdown",
      "metadata": {
        "id": "X2YwJr1OEpDl"
      },
      "source": [
        "# Model"
      ]
    },
    {
      "cell_type": "code",
      "metadata": {
        "colab": {
          "base_uri": "https://localhost:8080/"
        },
        "id": "OsktlzPdFE5o",
        "outputId": "9d1f36bb-af75-495b-c83a-754faccbef7a"
      },
      "source": [
        "X = tf.placeholder(tf.float32,shape=(None,28,28,1),name=\"Input_layer\")\n",
        "\n",
        "#capsules size\n",
        "\n",
        "caps1_n_maps = 32\n",
        "caps1_n_caps = caps1_n_maps * 6 * 6  \n",
        "caps1_n_dims = 8\n",
        "\n",
        "\n",
        "caps2_n_caps = 10 \n",
        "caps2_n_dims = 16\n",
        "\n",
        "# convolutional\n",
        "\n",
        "conv1_params = {\n",
        "    \"filters\": 256,\n",
        "    \"kernel_size\": 9,\n",
        "    \"strides\": 1,\n",
        "    \"padding\": \"valid\",\n",
        "    \"activation\": tf.nn.relu,\n",
        "}\n",
        "\n",
        "conv2_params = {\n",
        "    \"filters\": caps1_n_maps * caps1_n_dims, # 256 convolutional filters\n",
        "    \"kernel_size\": 9,\n",
        "    \"strides\": 2,\n",
        "    \"padding\": \"valid\",\n",
        "    \"activation\": tf.nn.relu\n",
        "}\n",
        "\n",
        "conv_1 = tf.layers.conv2d(X,**conv1_params)\n",
        "conv_2 = tf.layers.conv2d(conv_1,**conv2_params)\n",
        "\n",
        "# reshape to capsule\n",
        "std = 0.1\n",
        "capsule_input = tf.reshape(conv_2, [-1, caps1_n_caps, caps1_n_dims],name=\"caps1_raw\")\n",
        "capsule_input\n"
      ],
      "execution_count": 3,
      "outputs": [
        {
          "output_type": "stream",
          "text": [
            "WARNING:tensorflow:From <ipython-input-3-7a3698069a37>:31: conv2d (from tensorflow.python.layers.convolutional) is deprecated and will be removed in a future version.\n",
            "Instructions for updating:\n",
            "Use `tf.keras.layers.Conv2D` instead.\n",
            "WARNING:tensorflow:From /tensorflow-1.15.2/python3.7/tensorflow_core/python/layers/convolutional.py:424: Layer.apply (from tensorflow.python.keras.engine.base_layer) is deprecated and will be removed in a future version.\n",
            "Instructions for updating:\n",
            "Please use `layer.__call__` method instead.\n"
          ],
          "name": "stdout"
        },
        {
          "output_type": "execute_result",
          "data": {
            "text/plain": [
              "<tf.Tensor 'caps1_raw:0' shape=(?, 1152, 8) dtype=float32>"
            ]
          },
          "metadata": {
            "tags": []
          },
          "execution_count": 3
        }
      ]
    },
    {
      "cell_type": "code",
      "metadata": {
        "id": "tw5TJ7O8JSX7"
      },
      "source": [
        "batch_size = tf.shape(X)[0]\n",
        "weights = tf.random.normal(shape=(1,caps1_n_caps,caps2_n_caps,caps2_n_dims,caps1_n_dims),stddev=std,dtype=tf.float32)\n",
        "# weights\n",
        "w = tf.Variable(weights,name=\"W\")"
      ],
      "execution_count": 4,
      "outputs": []
    },
    {
      "cell_type": "code",
      "metadata": {
        "colab": {
          "base_uri": "https://localhost:8080/"
        },
        "id": "A9DtSSXoJn2M",
        "outputId": "e2688a31-dadb-47e1-ea63-c95479ee61c7"
      },
      "source": [
        "def squash(s,axis=-1,epsilon=1e-07,name=None):\n",
        "  with tf.name_scope(name,default_name=\"squashing\"):\n",
        "    squared_norm = tf.reduce_sum(tf.square(s),axis=axis,keepdims=True)\n",
        "    safe_norm = tf.sqrt(squared_norm + epsilon)\n",
        "    unit_vector = s/safe_norm \n",
        "    return (squared_norm / 1+squared_norm)*unit_vector\n",
        "capsule_1_squashed = squash(capsule_input,name=\"caps1_squash\")\n",
        "capsule_1_squashed"
      ],
      "execution_count": 5,
      "outputs": [
        {
          "output_type": "execute_result",
          "data": {
            "text/plain": [
              "<tf.Tensor 'caps1_squash/mul:0' shape=(?, 1152, 8) dtype=float32>"
            ]
          },
          "metadata": {
            "tags": []
          },
          "execution_count": 5
        }
      ]
    },
    {
      "cell_type": "code",
      "metadata": {
        "colab": {
          "base_uri": "https://localhost:8080/"
        },
        "id": "kj9Aj8IRLrY1",
        "outputId": "52af4919-1865-4221-b0d2-3a3b4275eb70"
      },
      "source": [
        "weights_tiled = tf.tile(w,[batch_size,1,1,1,1],name=\"tiled_weights\")\n",
        "weights_tiled"
      ],
      "execution_count": 6,
      "outputs": [
        {
          "output_type": "execute_result",
          "data": {
            "text/plain": [
              "<tf.Tensor 'tiled_weights:0' shape=(?, 1152, 10, 16, 8) dtype=float32>"
            ]
          },
          "metadata": {
            "tags": []
          },
          "execution_count": 6
        }
      ]
    },
    {
      "cell_type": "code",
      "metadata": {
        "colab": {
          "base_uri": "https://localhost:8080/"
        },
        "id": "FnyZmgoBM0uK",
        "outputId": "3cc6c541-1eb2-44d7-fb83-bd0aaf762b94"
      },
      "source": [
        "capsule_1_tiled = tf.expand_dims(capsule_1_squashed,2)\n",
        "capsule_1_tiled = tf.expand_dims(capsule_1_tiled,-1)\n",
        "capsule_1_tiled = tf.tile(capsule_1_tiled,[1,1,caps2_n_caps,1,1],name=\"caps1_tiled\")\n",
        "capsule_1_tiled"
      ],
      "execution_count": 7,
      "outputs": [
        {
          "output_type": "execute_result",
          "data": {
            "text/plain": [
              "<tf.Tensor 'caps1_tiled:0' shape=(?, 1152, 10, 8, 1) dtype=float32>"
            ]
          },
          "metadata": {
            "tags": []
          },
          "execution_count": 7
        }
      ]
    },
    {
      "cell_type": "code",
      "metadata": {
        "colab": {
          "base_uri": "https://localhost:8080/"
        },
        "id": "xYa76QpwNTKq",
        "outputId": "e0a78e59-d903-447c-ebd1-50f5d1e35798"
      },
      "source": [
        "caps_2 = tf.matmul(weights_tiled,capsule_1_tiled,name=\"caps2_matmul\")\n",
        "caps_2 "
      ],
      "execution_count": 8,
      "outputs": [
        {
          "output_type": "execute_result",
          "data": {
            "text/plain": [
              "<tf.Tensor 'caps2_matmul:0' shape=(?, 1152, 10, 16, 1) dtype=float32>"
            ]
          },
          "metadata": {
            "tags": []
          },
          "execution_count": 8
        }
      ]
    },
    {
      "cell_type": "code",
      "metadata": {
        "colab": {
          "base_uri": "https://localhost:8080/"
        },
        "id": "aSk4o3nLOWk8",
        "outputId": "9fc1e39e-6891-46ee-c76e-0390e142f25d"
      },
      "source": [
        "b = tf.zeros(shape=(batch_size,caps1_n_caps,caps2_n_caps,1,1),dtype=tf.float32)\n",
        "c = tf.nn.softmax(b,axis=2)\n",
        "c"
      ],
      "execution_count": 9,
      "outputs": [
        {
          "output_type": "execute_result",
          "data": {
            "text/plain": [
              "<tf.Tensor 'transpose_1:0' shape=(?, 1152, 10, 1, 1) dtype=float32>"
            ]
          },
          "metadata": {
            "tags": []
          },
          "execution_count": 9
        }
      ]
    },
    {
      "cell_type": "code",
      "metadata": {
        "colab": {
          "base_uri": "https://localhost:8080/"
        },
        "id": "QANQPwIDPSJg",
        "outputId": "f26504f1-d1bf-4d64-f7df-bf832b1624de"
      },
      "source": [
        "caps_2_out =tf.multiply(caps_2,c,name=\"caps2_multiply\")\n",
        "caps_2_out"
      ],
      "execution_count": 10,
      "outputs": [
        {
          "output_type": "execute_result",
          "data": {
            "text/plain": [
              "<tf.Tensor 'caps2_multiply:0' shape=(?, 1152, 10, 16, 1) dtype=float32>"
            ]
          },
          "metadata": {
            "tags": []
          },
          "execution_count": 10
        }
      ]
    },
    {
      "cell_type": "code",
      "metadata": {
        "colab": {
          "base_uri": "https://localhost:8080/"
        },
        "id": "Ek6pCgZdPm_M",
        "outputId": "f9f3ff0a-8c0d-4249-fa51-22a0d3a7da02"
      },
      "source": [
        "caps_2_squa = tf.reduce_sum(caps_2_out,axis=1,keep_dims=True,name=\"caps2_reduce_sum\")\n",
        "caps_2_squashed = squash(caps_2_squa,axis=-2,name=\"caps2_squash\")\n",
        "caps_2_squashed"
      ],
      "execution_count": 11,
      "outputs": [
        {
          "output_type": "stream",
          "text": [
            "WARNING:tensorflow:From <ipython-input-11-ddeaa5140ead>:1: calling reduce_sum_v1 (from tensorflow.python.ops.math_ops) with keep_dims is deprecated and will be removed in a future version.\n",
            "Instructions for updating:\n",
            "keep_dims is deprecated, use keepdims instead\n"
          ],
          "name": "stdout"
        },
        {
          "output_type": "execute_result",
          "data": {
            "text/plain": [
              "<tf.Tensor 'caps2_squash/mul:0' shape=(?, 1, 10, 16, 1) dtype=float32>"
            ]
          },
          "metadata": {
            "tags": []
          },
          "execution_count": 11
        }
      ]
    },
    {
      "cell_type": "code",
      "metadata": {
        "colab": {
          "base_uri": "https://localhost:8080/"
        },
        "id": "w5C1E6JRRvEx",
        "outputId": "873dfcbf-16f4-4ff1-835b-bdfa2f3a5ee2"
      },
      "source": [
        "caps_2_tiled = tf.tile(caps_2_squashed,[1,caps1_n_caps,1,1,1],name=\"caps2_tile\")\n",
        "caps_2_tiled"
      ],
      "execution_count": 12,
      "outputs": [
        {
          "output_type": "execute_result",
          "data": {
            "text/plain": [
              "<tf.Tensor 'caps2_tile:0' shape=(?, 1152, 10, 16, 1) dtype=float32>"
            ]
          },
          "metadata": {
            "tags": []
          },
          "execution_count": 12
        }
      ]
    },
    {
      "cell_type": "code",
      "metadata": {
        "colab": {
          "base_uri": "https://localhost:8080/"
        },
        "id": "mb0J3cjcSnXu",
        "outputId": "252d2f79-1479-4809-f38c-a6cf701d63cc"
      },
      "source": [
        "db = tf.matmul(caps_2,caps_2_tiled,transpose_a=True,name=\"multiply_vectors\")\n",
        "routing_2 = tf.add(b,db,name=\"add_b\")\n",
        "routing_weights_round_2 = tf.nn.softmax(routing_2,\n",
        "                                        dim=2,\n",
        "                                        name=\"routing_weights_round_2\")\n",
        "weighted_predictions_round_2 = tf.multiply(routing_weights_round_2,\n",
        "                                           caps_2,\n",
        "                                           name=\"weighted_predictions_round_2\")\n",
        "weighted_sum_round_2 = tf.reduce_sum(weighted_predictions_round_2,\n",
        "                                     axis=1, keep_dims=True,\n",
        "                                     name=\"weighted_sum_round_2\")\n",
        "caps2_output_round_2 = squash(weighted_sum_round_2,\n",
        "                              axis=-2,\n",
        "                              name=\"caps2_output_round_2\")\n",
        "caps_2_squashed = caps2_output_round_2"
      ],
      "execution_count": 13,
      "outputs": [
        {
          "output_type": "stream",
          "text": [
            "WARNING:tensorflow:From <ipython-input-13-5c69f2a72a80>:5: calling softmax (from tensorflow.python.ops.nn_ops) with dim is deprecated and will be removed in a future version.\n",
            "Instructions for updating:\n",
            "dim is deprecated, use axis instead\n"
          ],
          "name": "stdout"
        }
      ]
    },
    {
      "cell_type": "markdown",
      "metadata": {
        "id": "IKMcPN-tVPbu"
      },
      "source": [
        "#Loss"
      ]
    },
    {
      "cell_type": "code",
      "metadata": {
        "id": "lqU9OSr4TEFz"
      },
      "source": [
        "def safenorm(s,axis=-1,epsilon=1e-07,name=None):\n",
        "  with tf.name_scope(name,default_name=\"safe_norm\"):\n",
        "    return tf.sqrt(tf.reduce_sum(tf.square(s),axis=axis,keepdims=True))\n",
        "\n",
        "m_plus = 0.9\n",
        "m_minus = 0.1\n",
        "lambda_ = 0.5\n",
        "\n",
        "caps_out_norm = safenorm(caps_2_squashed,-2,name=\"norm\")\n",
        "y_pred = tf.argmax(caps_out_norm,2,name=\"prediction\")\n",
        "predicted = tf.squeeze(y_pred,axis=[1,2,3],name=\"squeezing\")\n",
        "\n",
        "y = tf.placeholder(shape=[None], dtype=tf.int64, name=\"y\")\n",
        "\n",
        "T = tf.one_hot(y,depth=caps2_n_caps,name=\"one_hot_encoding_T\")\n",
        "\n",
        "present_error = tf.reshape(tf.square(tf.maximum(0., m_plus - caps_out_norm),name=\"present_error\"),shape=(-1,10))\n",
        "\n",
        "absent_error = tf.reshape(tf.square(tf.maximum(0.,caps_out_norm-m_minus),name=\"absent_error\"),shape=(-1,10))\n",
        "\n",
        "L = tf.add(T * present_error, lambda_ * (1.0 - T) * absent_error,name=\"L\")\n",
        "margin_loss = tf.reduce_mean(tf.reduce_sum(L, axis=1), name=\"margin_loss\")\n"
      ],
      "execution_count": 14,
      "outputs": []
    },
    {
      "cell_type": "code",
      "metadata": {
        "colab": {
          "base_uri": "https://localhost:8080/"
        },
        "id": "yfbmdJZy7lU2",
        "outputId": "92253cd2-f54a-4f66-b7aa-a4bbfcfb7993"
      },
      "source": [
        "mask_with_labels = tf.placeholder_with_default(False, shape=(),name=\"mask_with_labels\")\n",
        "target = tf.cond(mask_with_labels,lambda:y,lambda:predicted)\n",
        "\n",
        "target_one_hot = tf.one_hot(target,depth=caps2_n_caps,name=\"one_hot_encoding_target\")\n",
        "target_one_hot"
      ],
      "execution_count": 15,
      "outputs": [
        {
          "output_type": "execute_result",
          "data": {
            "text/plain": [
              "<tf.Tensor 'one_hot_encoding_target:0' shape=(?, 10) dtype=float32>"
            ]
          },
          "metadata": {
            "tags": []
          },
          "execution_count": 15
        }
      ]
    },
    {
      "cell_type": "code",
      "metadata": {
        "colab": {
          "base_uri": "https://localhost:8080/"
        },
        "id": "vTK-TcfnCLcI",
        "outputId": "f59028ed-be74-4146-c794-04879434b8c2"
      },
      "source": [
        "caps_2_squashed"
      ],
      "execution_count": 16,
      "outputs": [
        {
          "output_type": "execute_result",
          "data": {
            "text/plain": [
              "<tf.Tensor 'caps2_output_round_2/mul:0' shape=(?, 1, 10, 16, 1) dtype=float32>"
            ]
          },
          "metadata": {
            "tags": []
          },
          "execution_count": 16
        }
      ]
    },
    {
      "cell_type": "code",
      "metadata": {
        "colab": {
          "base_uri": "https://localhost:8080/"
        },
        "id": "iiTpVslfCiR5",
        "outputId": "939601b5-27e1-451c-b812-029d8dd3857f"
      },
      "source": [
        "reshaped = tf.reshape(target_one_hot,[-1,1,caps2_n_caps,1,1],name=\"reshaped_target\")\n",
        "reshaped"
      ],
      "execution_count": 17,
      "outputs": [
        {
          "output_type": "execute_result",
          "data": {
            "text/plain": [
              "<tf.Tensor 'reshaped_target:0' shape=(?, 1, 10, 1, 1) dtype=float32>"
            ]
          },
          "metadata": {
            "tags": []
          },
          "execution_count": 17
        }
      ]
    },
    {
      "cell_type": "code",
      "metadata": {
        "colab": {
          "base_uri": "https://localhost:8080/"
        },
        "id": "S5OH_M2pC3Hu",
        "outputId": "f07e4fd0-e313-4337-998f-fd3e69e35eba"
      },
      "source": [
        "decoder_input = tf.multiply(caps_2_squashed,reshaped,name=\"decode_input\")\n",
        "decoder_input"
      ],
      "execution_count": 18,
      "outputs": [
        {
          "output_type": "execute_result",
          "data": {
            "text/plain": [
              "<tf.Tensor 'decode_input:0' shape=(?, 1, 10, 16, 1) dtype=float32>"
            ]
          },
          "metadata": {
            "tags": []
          },
          "execution_count": 18
        }
      ]
    },
    {
      "cell_type": "markdown",
      "metadata": {
        "id": "_ai5LjZRDg8g"
      },
      "source": [
        "# Decoder"
      ]
    },
    {
      "cell_type": "code",
      "metadata": {
        "colab": {
          "base_uri": "https://localhost:8080/"
        },
        "id": "lHf_h0C-DD56",
        "outputId": "72e3b162-8e32-49f0-8ddd-4f79a604b160"
      },
      "source": [
        "n_hidden1 = 512\n",
        "n_hidden2 = 1024\n",
        "n_output = 28 * 28\n",
        "reshape = tf.reshape(decoder_input,[-1,caps2_n_caps*caps2_n_dims])\n",
        "layer = tf.layers.dense(reshape,n_hidden1,activation=tf.nn.relu,name=\"layer1\")\n",
        "layer = tf.layers.dense(layer,n_hidden2,activation=tf.nn.relu,name=\"layer2\")\n",
        "out = tf.layers.dense(layer,n_output,activation=tf.nn.relu,name=\"layer3\")\n",
        "\n",
        "X_flat = tf.reshape(X, [-1, n_output], name=\"X_flat\")\n",
        "\n",
        "loss = tf.square(X_flat-out,name=\"reconstruction_loss\")\n",
        "reconstraction_loss = tf.reduce_mean(loss,name=\"reconstruction_loss_mean\")"
      ],
      "execution_count": 19,
      "outputs": [
        {
          "output_type": "stream",
          "text": [
            "WARNING:tensorflow:From <ipython-input-19-a344f5f2aa01>:5: dense (from tensorflow.python.layers.core) is deprecated and will be removed in a future version.\n",
            "Instructions for updating:\n",
            "Use keras.layers.Dense instead.\n"
          ],
          "name": "stdout"
        }
      ]
    },
    {
      "cell_type": "code",
      "metadata": {
        "colab": {
          "base_uri": "https://localhost:8080/"
        },
        "id": "H7EIovfOlBM9",
        "outputId": "de948897-09cd-4462-f4bb-a32772e5a1b7"
      },
      "source": [
        "loss"
      ],
      "execution_count": 20,
      "outputs": [
        {
          "output_type": "execute_result",
          "data": {
            "text/plain": [
              "<tf.Tensor 'reconstruction_loss:0' shape=(?, 784) dtype=float32>"
            ]
          },
          "metadata": {
            "tags": []
          },
          "execution_count": 20
        }
      ]
    },
    {
      "cell_type": "code",
      "metadata": {
        "colab": {
          "base_uri": "https://localhost:8080/"
        },
        "id": "m7iO47LDlFTC",
        "outputId": "14b5ffcd-5561-42bf-9f40-642da470e2ab"
      },
      "source": [
        "X_flat"
      ],
      "execution_count": 21,
      "outputs": [
        {
          "output_type": "execute_result",
          "data": {
            "text/plain": [
              "<tf.Tensor 'X_flat:0' shape=(?, 784) dtype=float32>"
            ]
          },
          "metadata": {
            "tags": []
          },
          "execution_count": 21
        }
      ]
    },
    {
      "cell_type": "code",
      "metadata": {
        "colab": {
          "base_uri": "https://localhost:8080/"
        },
        "id": "yqMm0CFelcXX",
        "outputId": "c336bb83-8051-4cab-fb4a-88f0a4d5041d"
      },
      "source": [
        "out"
      ],
      "execution_count": 22,
      "outputs": [
        {
          "output_type": "execute_result",
          "data": {
            "text/plain": [
              "<tf.Tensor 'layer3/Relu:0' shape=(?, 784) dtype=float32>"
            ]
          },
          "metadata": {
            "tags": []
          },
          "execution_count": 22
        }
      ]
    },
    {
      "cell_type": "markdown",
      "metadata": {
        "id": "Y269DWc4E2q7"
      },
      "source": [
        "# Final loss"
      ]
    },
    {
      "cell_type": "code",
      "metadata": {
        "id": "6LhNruTqE1oF"
      },
      "source": [
        "alpha = 0.0005\n",
        "final_loss = tf.add(margin_loss,alpha*reconstraction_loss,name=\"final_loss\")"
      ],
      "execution_count": 23,
      "outputs": []
    },
    {
      "cell_type": "markdown",
      "metadata": {
        "id": "nl2-GFPDJs6L"
      },
      "source": [
        "# Accuarcy eval"
      ]
    },
    {
      "cell_type": "code",
      "metadata": {
        "colab": {
          "base_uri": "https://localhost:8080/"
        },
        "id": "-fTYxhdxJyQ5",
        "outputId": "d0f8e65b-99f7-497f-bb68-001691e4d95b"
      },
      "source": [
        "acc = tf.equal(y,predicted,name=\"acc\")\n",
        "acc = tf.cast(acc,dtype=tf.float32,name=\"acc_cast\")\n",
        "acc"
      ],
      "execution_count": 24,
      "outputs": [
        {
          "output_type": "execute_result",
          "data": {
            "text/plain": [
              "<tf.Tensor 'acc_cast:0' shape=(?,) dtype=float32>"
            ]
          },
          "metadata": {
            "tags": []
          },
          "execution_count": 24
        }
      ]
    },
    {
      "cell_type": "code",
      "metadata": {
        "colab": {
          "base_uri": "https://localhost:8080/"
        },
        "id": "9CYgGqn7KbZR",
        "outputId": "ef0419f0-b0d4-4bca-d3c1-fb863f2d9972"
      },
      "source": [
        "accuarcy = tf.reduce_mean(acc,axis=0,name=\"acc_mean\")\n",
        "accuarcy"
      ],
      "execution_count": 25,
      "outputs": [
        {
          "output_type": "execute_result",
          "data": {
            "text/plain": [
              "<tf.Tensor 'acc_mean:0' shape=() dtype=float32>"
            ]
          },
          "metadata": {
            "tags": []
          },
          "execution_count": 25
        }
      ]
    },
    {
      "cell_type": "code",
      "metadata": {
        "colab": {
          "base_uri": "https://localhost:8080/"
        },
        "id": "5PUczyKsKy32",
        "outputId": "39b4fbea-48f1-44e7-cc11-212659ad31c8"
      },
      "source": [
        "optimizer = tf.train.AdamOptimizer()\n",
        "training_op = optimizer.minimize(final_loss, name=\"training_op\")\n",
        "init = tf.global_variables_initializer()\n",
        "saver = tf.train.Saver()"
      ],
      "execution_count": 26,
      "outputs": [
        {
          "output_type": "stream",
          "text": [
            "WARNING:tensorflow:From /tensorflow-1.15.2/python3.7/tensorflow_core/python/ops/math_grad.py:1424: where (from tensorflow.python.ops.array_ops) is deprecated and will be removed in a future version.\n",
            "Instructions for updating:\n",
            "Use tf.where in 2.0, which has the same broadcast rule as np.where\n"
          ],
          "name": "stdout"
        }
      ]
    },
    {
      "cell_type": "code",
      "metadata": {
        "colab": {
          "base_uri": "https://localhost:8080/"
        },
        "id": "oEQcgm__LD4v",
        "outputId": "a9f2c8f1-a258-4083-f30e-4331d5dcc49c"
      },
      "source": [
        "from tensorflow.examples.tutorials.mnist import input_data\n",
        "\n",
        "mnist = input_data.read_data_sets(\"/tmp/data/\")"
      ],
      "execution_count": 27,
      "outputs": [
        {
          "output_type": "stream",
          "text": [
            "WARNING:tensorflow:From <ipython-input-27-4141630e56b4>:3: read_data_sets (from tensorflow.contrib.learn.python.learn.datasets.mnist) is deprecated and will be removed in a future version.\n",
            "Instructions for updating:\n",
            "Please use alternatives such as official/mnist/dataset.py from tensorflow/models.\n",
            "WARNING:tensorflow:From /tensorflow-1.15.2/python3.7/tensorflow_core/contrib/learn/python/learn/datasets/mnist.py:260: maybe_download (from tensorflow.contrib.learn.python.learn.datasets.base) is deprecated and will be removed in a future version.\n",
            "Instructions for updating:\n",
            "Please write your own downloading logic.\n",
            "WARNING:tensorflow:From /tensorflow-1.15.2/python3.7/tensorflow_core/contrib/learn/python/learn/datasets/mnist.py:262: extract_images (from tensorflow.contrib.learn.python.learn.datasets.mnist) is deprecated and will be removed in a future version.\n",
            "Instructions for updating:\n",
            "Please use tf.data to implement this functionality.\n",
            "Extracting /tmp/data/train-images-idx3-ubyte.gz\n",
            "WARNING:tensorflow:From /tensorflow-1.15.2/python3.7/tensorflow_core/contrib/learn/python/learn/datasets/mnist.py:267: extract_labels (from tensorflow.contrib.learn.python.learn.datasets.mnist) is deprecated and will be removed in a future version.\n",
            "Instructions for updating:\n",
            "Please use tf.data to implement this functionality.\n",
            "Extracting /tmp/data/train-labels-idx1-ubyte.gz\n",
            "Extracting /tmp/data/t10k-images-idx3-ubyte.gz\n",
            "Extracting /tmp/data/t10k-labels-idx1-ubyte.gz\n",
            "WARNING:tensorflow:From /tensorflow-1.15.2/python3.7/tensorflow_core/contrib/learn/python/learn/datasets/mnist.py:290: DataSet.__init__ (from tensorflow.contrib.learn.python.learn.datasets.mnist) is deprecated and will be removed in a future version.\n",
            "Instructions for updating:\n",
            "Please use alternatives such as official/mnist/dataset.py from tensorflow/models.\n"
          ],
          "name": "stdout"
        }
      ]
    },
    {
      "cell_type": "code",
      "metadata": {
        "colab": {
          "base_uri": "https://localhost:8080/"
        },
        "id": "CT4tI52XVVXc",
        "outputId": "7be0c3f6-6acb-44db-b894-73c4568f27c8"
      },
      "source": [
        "mnist.train.num_examples"
      ],
      "execution_count": 28,
      "outputs": [
        {
          "output_type": "execute_result",
          "data": {
            "text/plain": [
              "55000"
            ]
          },
          "metadata": {
            "tags": []
          },
          "execution_count": 28
        }
      ]
    },
    {
      "cell_type": "code",
      "metadata": {
        "colab": {
          "base_uri": "https://localhost:8080/"
        },
        "id": "Y_3lfRrfVZQy",
        "outputId": "40589d60-37e2-459a-e49b-52511983608c"
      },
      "source": [
        "mnist.validation.num_examples"
      ],
      "execution_count": 29,
      "outputs": [
        {
          "output_type": "execute_result",
          "data": {
            "text/plain": [
              "5000"
            ]
          },
          "metadata": {
            "tags": []
          },
          "execution_count": 29
        }
      ]
    },
    {
      "cell_type": "code",
      "metadata": {
        "colab": {
          "base_uri": "https://localhost:8080/"
        },
        "id": "FNuhvbNVuyEq",
        "outputId": "d3da053d-1de1-4536-e4c6-29dea2bc97c3"
      },
      "source": [
        "n_epochs = 10\n",
        "batch_size = 50\n",
        "restore_checkpoint = True\n",
        "\n",
        "n_iterations_per_epoch = mnist.train.num_examples // batch_size\n",
        "n_iterations_validation = mnist.validation.num_examples // batch_size\n",
        "best_loss_val = np.infty\n",
        "checkpoint_path = \"./my_capsule_network\"\n",
        "\n",
        "with tf.Session() as sess:\n",
        "    if restore_checkpoint and tf.train.checkpoint_exists(checkpoint_path):\n",
        "        saver.restore(sess, checkpoint_path)\n",
        "    else:\n",
        "        init.run()\n",
        "\n",
        "    for epoch in range(n_epochs):\n",
        "        for iteration in range(1, n_iterations_per_epoch + 1):\n",
        "            X_batch, y_batch = mnist.train.next_batch(batch_size)\n",
        "            # Run the training operation and measure the loss:\n",
        "            _, loss_train = sess.run(\n",
        "                [training_op, final_loss],\n",
        "                feed_dict={X: X_batch.reshape([-1, 28, 28, 1]),\n",
        "                           y: y_batch,\n",
        "                           mask_with_labels: True})\n",
        "            print(\"\\rIteration: {}/{} ({:.1f}%)  Loss: {:.5f}\".format(\n",
        "                      iteration, n_iterations_per_epoch,\n",
        "                      iteration * 100 / n_iterations_per_epoch,\n",
        "                      loss_train),\n",
        "                  end=\"\")\n",
        "\n",
        "        # At the end of each epoch,\n",
        "        # measure the validation loss and accuracy:\n",
        "        loss_vals = []\n",
        "        acc_vals = []\n",
        "        for iteration in range(1, n_iterations_validation + 1):\n",
        "            X_batch, y_batch = mnist.validation.next_batch(batch_size)\n",
        "            loss_val, acc_val = sess.run(\n",
        "                    [final_loss, accuarcy],\n",
        "                    feed_dict={X: X_batch.reshape([-1, 28, 28, 1]),\n",
        "                               y: y_batch})\n",
        "            loss_vals.append(loss_val)\n",
        "            acc_vals.append(acc_val)\n",
        "            print(\"\\rEvaluating the model: {}/{} ({:.1f}%)\".format(\n",
        "                      iteration, n_iterations_validation,\n",
        "                      iteration * 100 / n_iterations_validation),\n",
        "                  end=\" \" * 10)\n",
        "        loss_val = np.mean(loss_vals)\n",
        "        acc_val = np.mean(acc_vals)\n",
        "        print(\"\\rEpoch: {}  Val accuracy: {:.4f}%  Loss: {:.6f}{}\".format(\n",
        "            epoch + 1, acc_val * 100, loss_val,\n",
        "            \" (improved)\" if loss_val < best_loss_val else \"\"))\n",
        "\n",
        "        # And save the model if it improved:\n",
        "        if loss_val < best_loss_val:\n",
        "            save_path = saver.save(sess, checkpoint_path)\n",
        "            best_loss_val = loss_val"
      ],
      "execution_count": 30,
      "outputs": [
        {
          "output_type": "stream",
          "text": [
            "WARNING:tensorflow:From <ipython-input-30-1d5ce7b3c2b4>:11: checkpoint_exists (from tensorflow.python.training.checkpoint_management) is deprecated and will be removed in a future version.\n",
            "Instructions for updating:\n",
            "Use standard file APIs to check for files with this prefix.\n",
            "Epoch: 1  Val accuracy: 96.3400%  Loss: 0.042574 (improved)\n",
            "Epoch: 2  Val accuracy: 97.4200%  Loss: 0.031381 (improved)\n",
            "Epoch: 3  Val accuracy: 97.9600%  Loss: 0.024746 (improved)\n",
            "Epoch: 4  Val accuracy: 98.0200%  Loss: 0.023802 (improved)\n",
            "Epoch: 5  Val accuracy: 98.3400%  Loss: 0.020857 (improved)\n",
            "Epoch: 6  Val accuracy: 98.3600%  Loss: 0.021333\n",
            "Epoch: 7  Val accuracy: 98.3600%  Loss: 0.020184 (improved)\n",
            "Epoch: 8  Val accuracy: 98.4200%  Loss: 0.020276\n",
            "Epoch: 9  Val accuracy: 98.6400%  Loss: 0.018113 (improved)\n",
            "Epoch: 10  Val accuracy: 98.6800%  Loss: 0.017676 (improved)\n"
          ],
          "name": "stdout"
        }
      ]
    },
    {
      "cell_type": "code",
      "metadata": {
        "colab": {
          "base_uri": "https://localhost:8080/",
          "height": 286
        },
        "id": "TLAbBaAoWHsU",
        "outputId": "c28bab3e-352d-4724-e70d-8163828b50f3"
      },
      "source": [
        "import matplotlib.pyplot as plt\n",
        "\n",
        "n_samples = 5\n",
        "\n",
        "sample_images = mnist.test.images[:n_samples].reshape([-1, 28, 28, 1])\n",
        "\n",
        "with tf.Session() as sess:\n",
        "    saver.restore(sess, checkpoint_path)\n",
        "    decoder_output_value, y_val = sess.run(\n",
        "            [out, predicted],\n",
        "            feed_dict={X: sample_images,\n",
        "                       y: np.array([], dtype=np.int64)})\n",
        "\n",
        "\n",
        "sample_images = sample_images.reshape(-1, 28, 28)\n",
        "reconstructions = decoder_output_value.reshape([-1, 28, 28])\n",
        "\n",
        "plt.figure(figsize=(n_samples * 2, 3))\n",
        "for index in range(n_samples):\n",
        "    plt.subplot(1, n_samples, index + 1)\n",
        "    plt.imshow(sample_images[index], cmap=\"binary\")\n",
        "    plt.title(\"Label:\" + str(mnist.test.labels[index]))\n",
        "    plt.axis(\"off\")\n",
        "\n",
        "plt.show()\n",
        "\n",
        "plt.figure(figsize=(n_samples * 2, 3))\n",
        "for index in range(n_samples):\n",
        "    plt.subplot(1, n_samples, index + 1)\n",
        "    plt.title(\"Predicted:\" + str(y_val[index]))\n",
        "    plt.imshow(reconstructions[index], cmap=\"binary\")\n",
        "    plt.axis(\"off\")\n",
        "    \n",
        "plt.show()"
      ],
      "execution_count": 34,
      "outputs": [
        {
          "output_type": "stream",
          "text": [
            "INFO:tensorflow:Restoring parameters from ./my_capsule_network\n"
          ],
          "name": "stdout"
        },
        {
          "output_type": "display_data",
          "data": {
            "image/png": "[encoded data removed]",
            "text/plain": [
              "<Figure size 720x216 with 5 Axes>"
            ]
          },
          "metadata": {
            "tags": [],
            "needs_background": "light"
          }
        },
        {
          "output_type": "display_data",
          "data": {
            "image/png": "[encoded data removed]",
            "text/plain": [
              "<Figure size 720x216 with 5 Axes>"
            ]
          },
          "metadata": {
            "tags": [],
            "needs_background": "light"
          }
        }
      ]
    },
    {
      "cell_type": "code",
      "metadata": {
        "id": "vmXFwYEGYrgh"
      },
      "source": [
        ""
      ],
      "execution_count": null,
      "outputs": []
    }
  ]
}